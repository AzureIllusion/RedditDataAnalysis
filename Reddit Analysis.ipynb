{
 "cells": [
  {
   "cell_type": "markdown",
   "metadata": {},
   "source": [
    "# Reddit Data Analysis Project\n",
    "\n",
    "This notebook will contain my basic analysis of the submissions and comments of a particular subreddit.  For this project the /r/edh subreddit was chosen since it's a subreddit I frequent and I was curious to see if there are any interesting inferences to be found from analyzing submissions and comments.\n",
    "\n",
    "We start by importing the libraries used for working on and visualizing data.\n"
   ]
  },
  {
   "cell_type": "code",
   "execution_count": 4,
   "metadata": {},
   "outputs": [],
   "source": [
    "import pandas as pd\n",
    "import numpy as np\n",
    "import matplotlib.pyplot as plt\n",
    "from pymongo import MongoClient"
   ]
  },
  {
   "cell_type": "markdown",
   "metadata": {},
   "source": [
    "\n",
    "The information is stored using MongoDB so the first thing to do will be trying to connect to the server.\n"
   ]
  },
  {
   "cell_type": "code",
   "execution_count": 5,
   "metadata": {},
   "outputs": [],
   "source": [
    "try:\n",
    "    client = MongoClient()\n",
    "    db = client.redditdb_test\n",
    "    submissions = db.submissions_test\n",
    "    comments = db.comments_test\n",
    "except MongoClient.errors.PyMongoError as e:\n",
    "    print(\"Unspecified PyMongo Error\")"
   ]
  },
  {
   "cell_type": "markdown",
   "metadata": {},
   "source": [
    "\n",
    "Once that is successful we can set our options in pandas and construct the dataframes that will house the data we are analyzing.  We can also change the date time from a Unix Time Stamp(UTS) to a format that is more human usable.  After that we will add a new column containing the length of the comments.\n"
   ]
  },
  {
   "cell_type": "code",
   "execution_count": 6,
   "metadata": {},
   "outputs": [],
   "source": [
    "# pd Options\n",
    "pd.set_option('display.max_rows', 1000)\n",
    "\n",
    "# Data Frames\n",
    "df_sub = pd.DataFrame(list(submissions.find()))\n",
    "df_com = pd.DataFrame(list(comments.find()))\n",
    "\n",
    "# Make the dates readable\n",
    "df_sub['time'] = df_sub['time'].astype(int)\n",
    "df_com['time'] = df_com['time'].astype(int)\n",
    "\n",
    "df_sub['time'] = pd.to_datetime(df_sub['time'], unit='s')\n",
    "df_com['time'] = pd.to_datetime(df_com['time'], unit='s')\n",
    "\n",
    "# Make a column cha_count for characters in body of post\n",
    "cha_count_sub = [len(x) for x in df_sub['content']]\n",
    "cha_count_com = [len(x) for x in df_com['content']]\n",
    "\n",
    "df_sub['cha_count'] = cha_count_sub\n",
    "df_com['cha_count'] = cha_count_com"
   ]
  },
  {
   "cell_type": "markdown",
   "metadata": {},
   "source": [
    "\n",
    "Now we can print a the first 5 rows in the data frames df_sub and df_com.\n"
   ]
  },
  {
   "cell_type": "code",
   "execution_count": 7,
   "metadata": {
    "scrolled": true
   },
   "outputs": [
    {
     "name": "stdout",
     "output_type": "stream",
     "text": [
      "                        _id              author  \\\n",
      "0  5b22a405f597c41874eb1f51               waki4   \n",
      "1  5b22a407f597c41874eb1f9e       Unmistakable1   \n",
      "2  5b22a408f597c41874eb1fb2       MagicalHacker   \n",
      "3  5b22a40af597c41874eb200e  SevenManaDoNothing   \n",
      "4  5b22a40cf597c41874eb2051        Sir-Longhair   \n",
      "\n",
      "                                             content   fullname subreddit  \\\n",
      "0  [EDHRECast: Solving “The Boros Problem”](http:...  t3_8r1zxn       EDH   \n",
      "1  Hey guys! Unmistakable here,\\n\\nThis week, I w...  t3_8r2do6       EDH   \n",
      "2  If someone asked you not to concede in a game ...  t3_8qz0ve       EDH   \n",
      "3  Hey Everyone! Most of us have come across the ...  t3_8r162h       EDH   \n",
      "4  I'm looking to build a new mono black deck, bu...  t3_8r208b       EDH   \n",
      "\n",
      "                 time                                              title  \\\n",
      "0 2018-06-14 13:50:41             EDHRECast: Solving “The Boros Problem”   \n",
      "1 2018-06-14 14:41:56  Tribal Unity - Zombies: A look into one of the...   \n",
      "2 2018-06-14 04:31:04  If someone asked you not to concede, and then ...   \n",
      "3 2018-06-14 11:42:29  What Are Your Favorite Cmdrs You've Built Diff...   \n",
      "4 2018-06-14 13:51:53                                   Mono Black Decks   \n",
      "\n",
      "   up_votes  cha_count  \n",
      "0        68       1051  \n",
      "1        17        410  \n",
      "2       103        460  \n",
      "3        19        842  \n",
      "4         7        320  \n",
      "                        _id            author  \\\n",
      "0  5b22a406f597c41874eb1f52      filthyrotten   \n",
      "1  5b22a406f597c41874eb1f53         Fake_Math   \n",
      "2  5b22a406f597c41874eb1f54        trollsucks   \n",
      "3  5b22a406f597c41874eb1f55  dark_thaumaturge   \n",
      "4  5b22a406f597c41874eb1f56          chefsati   \n",
      "\n",
      "                                             content    fullname  parent_id  \\\n",
      "0  Part of the problem with Boros is that very fe...  t1_e0nw2cs  t3_8r1zxn   \n",
      "1  Boros draw could come with consequences. Red d...  t1_e0nsq0o  t3_8r1zxn   \n",
      "2                  Commander 2018: 4 Boros decks! :)  t1_e0nt4np  t3_8r1zxn   \n",
      "3  Thank you for addressing this! I DO think Boro...  t1_e0nu9fu  t3_8r1zxn   \n",
      "4  Flagging this to listen later. I have some rea...  t1_e0nso0e  t3_8r1zxn   \n",
      "\n",
      "  subreddit                time  up_votes  cha_count  \n",
      "0       EDH 2018-06-14 15:09:09        50        663  \n",
      "1       EDH 2018-06-14 14:19:34        33        354  \n",
      "2       EDH 2018-06-14 14:25:52         9         33  \n",
      "3       EDH 2018-06-14 14:42:51        30       3377  \n",
      "4       EDH 2018-06-14 14:18:44         8        294  \n"
     ]
    }
   ],
   "source": [
    "print(df_sub.head(5))\n",
    "print(df_com.head(5))"
   ]
  },
  {
   "cell_type": "markdown",
   "metadata": {},
   "source": [
    "\n",
    "Okay, so things are a bit ugly but easily noticed is that the amount of content in a post doesn't seem to correlate with up votes. There may be more things that aren't apparent that we will find as we mess with the data.  Next we can also describe the contents of the dataframe, the things we are looking at here will be author, upvotes, and comment length.\n"
   ]
  },
  {
   "cell_type": "code",
   "execution_count": 8,
   "metadata": {},
   "outputs": [
    {
     "name": "stdout",
     "output_type": "stream",
     "text": [
      "                author\n",
      "count              880\n",
      "unique             674\n",
      "top     Shatterpoint99\n",
      "freq                12\n",
      "----------------------------------------------------------------\n",
      "         up_votes\n",
      "count  880.000000\n",
      "mean    18.402273\n",
      "std     36.234786\n",
      "min      0.000000\n",
      "25%      3.000000\n",
      "50%      6.000000\n",
      "75%     15.000000\n",
      "max    305.000000\n",
      "----------------------------------------------------------------\n",
      "          cha_count\n",
      "count    880.000000\n",
      "mean     972.380682\n",
      "std     1297.165997\n",
      "min        0.000000\n",
      "25%      428.000000\n",
      "50%      658.000000\n",
      "75%     1019.750000\n",
      "max    18368.000000\n",
      "----------------------------------------------------------------\n",
      "                author\n",
      "count            28132\n",
      "unique            4518\n",
      "top     MTGCardFetcher\n",
      "freq              6034\n",
      "----------------------------------------------------------------\n",
      "           up_votes\n",
      "count  28132.000000\n",
      "mean       3.729632\n",
      "std       11.453246\n",
      "min      -42.000000\n",
      "25%        1.000000\n",
      "50%        1.000000\n",
      "75%        3.000000\n",
      "max      386.000000\n",
      "----------------------------------------------------------------\n",
      "          cha_count\n",
      "count  28132.000000\n",
      "mean     468.653597\n",
      "std      804.072804\n",
      "min        1.000000\n",
      "25%      100.000000\n",
      "50%      238.000000\n",
      "75%      453.000000\n",
      "max     9867.000000\n"
     ]
    }
   ],
   "source": [
    "print(df_sub[['author']].describe())\n",
    "print('-'*64)\n",
    "print(df_sub[['up_votes']].describe())\n",
    "print('-'*64)\n",
    "print(df_sub[['cha_count']].describe())\n",
    "print('-'*64)\n",
    "print(df_com[['author']].describe())\n",
    "print('-'*64)\n",
    "print(df_com[['up_votes']].describe())\n",
    "print('-'*64)\n",
    "print(df_com[['cha_count']].describe())"
   ]
  },
  {
   "cell_type": "markdown",
   "metadata": {},
   "source": [
    "\n",
    "Oh no, there is a bot with the most comments, that might mess with the data set and it accounts for over 20% of comments in the forum.  The next thing we want to find are the top users by comment or submission length, up votes, and ammount of comments and submissions. We will remove u/MTGCardFetcher from the data going forward and redo the description of author.\n"
   ]
  },
  {
   "cell_type": "code",
   "execution_count": 9,
   "metadata": {},
   "outputs": [
    {
     "name": "stdout",
     "output_type": "stream",
     "text": [
      "          author\n",
      "count      22098\n",
      "unique      4517\n",
      "top     elting44\n",
      "freq         308\n"
     ]
    }
   ],
   "source": [
    "df_com = df_com.replace('MTGCardFetcher', np.nan).dropna()\n",
    "print(df_com[['author']].describe())"
   ]
  },
  {
   "cell_type": "markdown",
   "metadata": {},
   "source": [
    "That seems to have cleared things up a bit now we can proceed without the bot messing with things."
   ]
  },
  {
   "cell_type": "code",
   "execution_count": 10,
   "metadata": {},
   "outputs": [
    {
     "name": "stdout",
     "output_type": "stream",
     "text": [
      "                          _id          author  \\\n",
      "836  5b22a858f597c41874eb8c9e     DovaKroniid   \n",
      "432  5b22a62af597c41874eb5787     DovaKroniid   \n",
      "155  5b22a4cbf597c41874eb31bc     cromonolith   \n",
      "329  5b22a5d9f597c41874eb4b31     TrojanZebra   \n",
      "851  5b22a861f597c41874eb8d88         evan111   \n",
      "282  5b22a57cf597c41874eb42be  MaskedThespian   \n",
      "182  5b22a4ecf597c41874eb345b     Martin_Gary   \n",
      "662  5b22a7b1f597c41874eb798e      pudgimelon   \n",
      "\n",
      "                                               content   fullname subreddit  \\\n",
      "836  Welcome, /r/EDH, to my next old set review! Th...  t3_8mlt4f       EDH   \n",
      "432   \\nWelcome, /r/EDH, to my final set review for...  t3_8optmf       EDH   \n",
      "155  I'm sure there are many more. \\n\\nNote that al...  t3_8q7y1h       EDH   \n",
      "329  # [Deck: Untitled Deck](https://deckstats.net/...  t3_8pib4m       EDH   \n",
      "851  Let me start this post by saying that I've see...  t3_8mkkiz       EDH   \n",
      "282  Hey, everyone.\\n\\nI've been working on this de...  t3_8pwdi3       EDH   \n",
      "182  *\"What is my purpose?\"*\\n\\n*\"You [fetch planes...  t3_8q761n       EDH   \n",
      "662  I've updated my EDH decks with Dominaria cards...  t3_8nptj3       EDH   \n",
      "\n",
      "                   time                                              title  \\\n",
      "836 2018-05-27 23:52:36                           [NEM] Nemesis Set Review   \n",
      "432 2018-06-05 10:48:56                      Prophecy Commander Set Review   \n",
      "155 2018-06-11 08:34:30  People ask how people feel about proxies a lot...   \n",
      "329 2018-06-08 08:42:46  Is this Akiri/Bruse deck any good? First real ...   \n",
      "851 2018-05-27 20:39:20  It is my opinion that EDH has became a lot fas...   \n",
      "282 2018-06-09 22:18:50  Ramos, Dragon Engine \"Multicoloured Matters\" D...   \n",
      "182 2018-06-11 05:52:42  (Primer) In anticipation of Father's Day: Niam...   \n",
      "662 2018-06-01 06:42:05                 Dominaria Updates for my EDH decks   \n",
      "\n",
      "     up_votes  cha_count  \n",
      "836       198      18368  \n",
      "432       145      17208  \n",
      "155       179      11726  \n",
      "329        17      11069  \n",
      "851       152      10053  \n",
      "282         1       7485  \n",
      "182        21       6916  \n",
      "662         2       6843  \n",
      "----------------------------------------------------------------\n",
      "                            _id            author  \\\n",
      "7101   5b22a53ef597c41874eb3bed      KurthnagaLoL   \n",
      "19370  5b22a73bf597c41874eb6d34       thetracker3   \n",
      "21574  5b22a79ff597c41874eb761f            Piekan   \n",
      "19835  5b22a757f597c41874eb6f19          grummi92   \n",
      "12434  5b22a5fdf597c41874eb515b    aDubiousNotion   \n",
      "11264  5b22a5e4f597c41874eb4ca7   DrAlistairGrout   \n",
      "26071  5b22a837f597c41874eb8840  ASpicyStrawberry   \n",
      "26266  5b22a83ef597c41874eb890b             GxMxG   \n",
      "\n",
      "                                                 content    fullname  \\\n",
      "7101   **Meta Definers**\\n\\n* [[Mob Rule]]-Much in th...  t1_e0faxti   \n",
      "19370  I've found that lots of \"copy target instant/s...  t1_e003rwp   \n",
      "21574  I happen to agree with a lot of the top commen...  t1_dzygr8r   \n",
      "19835  I'm still in the process of building my own Ta...  t1_e01pjp0   \n",
      "12434  Savra is my favorite commander.  I'll copy/pas...  t1_e0ad077   \n",
      "11264  Kefnet is my primary and favorite EDH deck. It...  t1_e0bpqzr   \n",
      "26071  I played Tatyova for awhile and ended up disas...  t1_dzs2tff   \n",
      "26266  Looking over decklist, there are a few questio...  t1_dzu3d70   \n",
      "\n",
      "        parent_id subreddit                time  up_votes  cha_count  \n",
      "7101    t3_8pyrir       EDH 2018-06-10 09:03:25        36       9867  \n",
      "19370   t3_8o20cx       EDH 2018-06-02 17:53:19        28       7567  \n",
      "21574   t3_8nthey       EDH 2018-06-01 19:24:03         1       7146  \n",
      "19835  t1_e01disi       EDH 2018-06-03 16:47:55         1       7136  \n",
      "12434   t3_8p7dt4       EDH 2018-06-07 20:06:34         3       7086  \n",
      "11264   t3_8pewzt       EDH 2018-06-08 13:11:31         2       6650  \n",
      "26071   t3_8myt9f       EDH 2018-05-29 19:08:50         2       6220  \n",
      "26266  t1_dztwu8n       EDH 2018-05-30 18:18:00         2       6044  \n",
      "----------------------------------------------------------------\n",
      "                          _id        author  \\\n",
      "702  5b22a7def597c41874eb7dd6  Jayfeather69   \n",
      "59   5b22a44ef597c41874eb2557       nsolarz   \n",
      "136  5b22a4b3f597c41874eb2e4e     twocents_   \n",
      "219  5b22a517f597c41874eb383e       Zeathan   \n",
      "125  5b22a4a6f597c41874eb2d5c       Stigna1   \n",
      "650  5b22a7a0f597c41874eb768b     Maledicte   \n",
      "519  5b22a6cef597c41874eb644e  SilverLoonie   \n",
      "287  5b22a581f597c41874eb4322      exoblaze   \n",
      "\n",
      "                                               content   fullname subreddit  \\\n",
      "702  [Link](https://i.redd.it/lmz9ebhpv0111.jpg)\\n\\...  t3_8naepp       EDH   \n",
      "59   [Go watch if you haven't seen it](https://www....  t3_8qnxxf       EDH   \n",
      "136  [Nexus of Fate](https://media.wizards.com/2018...  t3_8qb19x       EDH   \n",
      "219  I feel like most people generally feel the sam...  t3_8pxakt       EDH   \n",
      "125  [Reliquary Tower](https://media.wizards.com/20...  t3_8qddop       EDH   \n",
      "650  I don't care about milling, I don't care about...  t3_8nhdme       EDH   \n",
      "519  Whether it's players backing out of a deal, no...  t3_8o8th9       EDH   \n",
      "287  Cards that make your table collectively groan ...  t3_8pklq1       EDH   \n",
      "\n",
      "                   time                                              title  \\\n",
      "702 2018-05-30 17:21:48                                [M19] Apex of Power   \n",
      "59  2018-06-13 00:04:07  The Command Zone - Should ALL Planeswalkers be...   \n",
      "136 2018-06-11 17:04:18                                [M19] Nexus of Fate   \n",
      "219 2018-06-10 00:45:44      What is your unpopular opinion regarding edh?   \n",
      "125 2018-06-11 21:47:06                 [M19] Reliquary Tower, at uncommon   \n",
      "650 2018-05-31 10:39:42  Am I alone in really disliking almost all the ...   \n",
      "519 2018-06-03 14:20:37  What's something guaranteed to get you pouring...   \n",
      "287 2018-06-08 15:03:38     What cards are the greatest salt mines in EDH?   \n",
      "\n",
      "     up_votes  cha_count  \n",
      "702       305        367  \n",
      "59        266       1446  \n",
      "136       261        566  \n",
      "219       244        380  \n",
      "125       241        445  \n",
      "650       240        803  \n",
      "519       228        552  \n",
      "287       217        372  \n",
      "----------------------------------------------------------------\n",
      "                            _id           author  \\\n",
      "6168   5b22a538f597c41874eb3844       Yuribarber   \n",
      "8883   5b22a59cf597c41874eb4323    grimmbrother1   \n",
      "17147  5b22a6f5f597c41874eb6452       Equilorian   \n",
      "11149  5b22a5e4f597c41874eb4c33           Whym81   \n",
      "17148  5b22a6f5f597c41874eb6453        nickoking   \n",
      "5333   5b22a4eff597c41874eb34dd        xemnas731   \n",
      "1483   5b22a456f597c41874eb2558  MissesDoubtfire   \n",
      "21682  5b22a7a2f597c41874eb768d       nevetz1911   \n",
      "\n",
      "                                                 content    fullname  \\\n",
      "6168   If me interacting with you so i dont lose is a...  t1_e0etjv1   \n",
      "8883   [[Humility]] is definitely one that will cause...  t1_e0bythe   \n",
      "17147  People who get upset when people interact with...  t1_e01lohw   \n",
      "11149  Because [[Vandalblast]] costs only one more, i...  t1_e0a20za   \n",
      "17148  Poor threat assessment.  \\nSure go ahead and k...  t1_e01jbhc   \n",
      "5333                     Well now your just being picky   t1_e0g7qa8   \n",
      "1483   The best planeswalker commander is already a l...  t1_e0ksj3r   \n",
      "21682  > So what do you want in a UB commander?\\n\\nOn...  t1_dzvgfdf   \n",
      "\n",
      "        parent_id subreddit                time  up_votes  cha_count  \n",
      "6168    t3_8pxakt       EDH 2018-06-10 01:39:26       386        147  \n",
      "8883    t3_8pklq1       EDH 2018-06-08 15:32:53       372        137  \n",
      "17147   t3_8o8th9       EDH 2018-06-03 15:35:49       335        155  \n",
      "11149   t3_8pc6bg       EDH 2018-06-07 17:32:00       329        116  \n",
      "17148   t3_8o8th9       EDH 2018-06-03 14:47:00       289        152  \n",
      "5333   t1_e0g7iq1       EDH 2018-06-10 20:52:55       285         31  \n",
      "1483    t3_8qnxxf       EDH 2018-06-13 01:27:56       283        427  \n",
      "21682   t3_8nhdme       EDH 2018-05-31 10:51:24       281         56  \n"
     ]
    }
   ],
   "source": [
    "sort_length_sub = df_sub.sort_values('cha_count', ascending=False)\n",
    "sort_length_com = df_com.sort_values('cha_count', ascending=False)\n",
    "\n",
    "sort_upvote_sub = df_sub.sort_values('up_votes', ascending=False)\n",
    "sort_upvote_com = df_com.sort_values('up_votes', ascending=False)\n",
    "\n",
    "print(sort_length_sub.head(8))\n",
    "print('-'*64)\n",
    "print(sort_length_com.head(8))\n",
    "print('-'*64)\n",
    "print(sort_upvote_sub.head(8))\n",
    "print('-'*64)\n",
    "print(sort_upvote_com.head(8))"
   ]
  },
  {
   "cell_type": "markdown",
   "metadata": {},
   "source": [
    "There is more exploring to be done but from here we can see that by submission length our superusers are: DovaKoniid, cromonolith, TrojanZebra, evan111, MaskedThespian, Martin_Gary, pugimelon. \n",
    "By comment length the super users are: KurthagaLoL, thetracker3, Piekan, grummi92, aDubiousNotion, DrAlistairGrout, ASpicyStrawberry, GxMxG. \n",
    "For submission up votes our superusers are: Jayfeather69, nsolarz, twocents_, Zeathan, Stigna1, Maledicte, SilverLoonie, exoblaze.\n",
    "For comment up votes our superusers are: Yuribarber, grimmbrother1, Equilorian, Whym81, nickoking, xemnas731, MissesDoubtfire, nevetz1911.\n",
    "\n",
    "Just looking at the top 8 users for each category doesn't seem to yield much overlap which is interesting and supports the hypothesis that there is little correlation between the amount of content one posts and the up votes that user recieves\n",
    "\n",
    "Now we will make graphs to help visualize the data."
   ]
  },
  {
   "cell_type": "code",
   "execution_count": 19,
   "metadata": {},
   "outputs": [
    {
     "data": {
      "image/png": "[encoded data removed]",
      "text/plain": [
       "<Figure size 432x288 with 1 Axes>"
      ]
     },
     "metadata": {},
     "output_type": "display_data"
    }
   ],
   "source": [
    "df_sub.plot.scatter(x='cha_count', y='up_votes', c='DarkBlue')\n",
    "plt.show()"
   ]
  },
  {
   "cell_type": "markdown",
   "metadata": {},
   "source": [
    "The graph above is a scatter plot graphing submission character count vs. the number of up votes."
   ]
  },
  {
   "cell_type": "code",
   "execution_count": 20,
   "metadata": {},
   "outputs": [
    {
     "data": {
      "image/png": "[encoded data removed]",
      "text/plain": [
       "<Figure size 432x288 with 1 Axes>"
      ]
     },
     "metadata": {},
     "output_type": "display_data"
    }
   ],
   "source": [
    "df_com.plot.scatter(x='cha_count', y='up_votes', c='DarkBlue')\n",
    "plt.show()"
   ]
  },
  {
   "cell_type": "markdown",
   "metadata": {},
   "source": [
    "The graph above is a scatter plot graphing comment character count vs. the number of up votes."
   ]
  }
 ],
 "metadata": {
  "kernelspec": {
   "display_name": "Python 3",
   "language": "python",
   "name": "python3"
  },
  "language_info": {
   "codemirror_mode": {
    "name": "ipython",
    "version": 3
   },
   "file_extension": ".py",
   "mimetype": "text/x-python",
   "name": "python",
   "nbconvert_exporter": "python",
   "pygments_lexer": "ipython3",
   "version": "3.5.2"
  }
 },
 "nbformat": 4,
 "nbformat_minor": 2
}
